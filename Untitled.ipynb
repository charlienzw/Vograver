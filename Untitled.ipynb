{
 "cells": [
  {
   "cell_type": "code",
   "execution_count": 1,
   "metadata": {},
   "outputs": [
    {
     "name": "stderr",
     "output_type": "stream",
     "text": [
      "ERROR:root:File `'main.py'` not found.\n"
     ]
    }
   ],
   "source": [
    "%run main"
   ]
  },
  {
   "cell_type": "code",
   "execution_count": null,
   "metadata": {
    "collapsed": true
   },
   "outputs": [],
   "source": [
    "%run setup"
   ]
  },
  {
   "cell_type": "code",
   "execution_count": 1,
   "metadata": {
    "collapsed": true
   },
   "outputs": [],
   "source": [
    "%run setup"
   ]
  },
  {
   "cell_type": "code",
   "execution_count": 1,
   "metadata": {
    "collapsed": true
   },
   "outputs": [],
   "source": [
    "from PyQt5.QtWidgets import QMainWindow"
   ]
  },
  {
   "cell_type": "code",
   "execution_count": 2,
   "metadata": {},
   "outputs": [
    {
     "ename": "AttributeError",
     "evalue": "type object 'QMainWindow' has no attribute 'QPushbutton'",
     "output_type": "error",
     "traceback": [
      "\u001b[1;31m---------------------------------------------------------------------------\u001b[0m",
      "\u001b[1;31mAttributeError\u001b[0m                            Traceback (most recent call last)",
      "\u001b[1;32m<ipython-input-2-cc92f166372b>\u001b[0m in \u001b[0;36m<module>\u001b[1;34m()\u001b[0m\n\u001b[1;32m----> 1\u001b[1;33m \u001b[0mdir\u001b[0m\u001b[1;33m(\u001b[0m\u001b[0mQMainWindow\u001b[0m\u001b[1;33m.\u001b[0m\u001b[0mQPushbutton\u001b[0m\u001b[1;33m)\u001b[0m\u001b[1;33m\u001b[0m\u001b[0m\n\u001b[0m",
      "\u001b[1;31mAttributeError\u001b[0m: type object 'QMainWindow' has no attribute 'QPushbutton'"
     ]
    }
   ],
   "source": [
    "dir(QMainWindow.QPushbutton)"
   ]
  },
  {
   "cell_type": "code",
   "execution_count": 5,
   "metadata": {},
   "outputs": [
    {
     "ename": "NameError",
     "evalue": "name 'QtWidgets' is not defined",
     "output_type": "error",
     "traceback": [
      "\u001b[1;31m---------------------------------------------------------------------------\u001b[0m",
      "\u001b[1;31mNameError\u001b[0m                                 Traceback (most recent call last)",
      "\u001b[1;32m<ipython-input-5-b4ff28510180>\u001b[0m in \u001b[0;36m<module>\u001b[1;34m()\u001b[0m\n\u001b[1;32m----> 1\u001b[1;33m \u001b[0mdir\u001b[0m\u001b[1;33m(\u001b[0m\u001b[0mQtWidgets\u001b[0m\u001b[1;33m.\u001b[0m\u001b[0mQPushButton\u001b[0m\u001b[1;33m)\u001b[0m\u001b[1;33m\u001b[0m\u001b[0m\n\u001b[0m",
      "\u001b[1;31mNameError\u001b[0m: name 'QtWidgets' is not defined"
     ]
    }
   ],
   "source": [
    "dir(QtWidgets.QPushButton)"
   ]
  },
  {
   "cell_type": "code",
   "execution_count": 6,
   "metadata": {
    "collapsed": true
   },
   "outputs": [],
   "source": [
    "from PyQt5 import QtWidgets"
   ]
  },
  {
   "cell_type": "code",
   "execution_count": 7,
   "metadata": {},
   "outputs": [
    {
     "data": {
      "text/plain": [
       "['DrawChildren',\n",
       " 'DrawWindowBackground',\n",
       " 'IgnoreMask',\n",
       " 'PaintDeviceMetric',\n",
       " 'PdmDepth',\n",
       " 'PdmDevicePixelRatio',\n",
       " 'PdmDevicePixelRatioScaled',\n",
       " 'PdmDpiX',\n",
       " 'PdmDpiY',\n",
       " 'PdmHeight',\n",
       " 'PdmHeightMM',\n",
       " 'PdmNumColors',\n",
       " 'PdmPhysicalDpiX',\n",
       " 'PdmPhysicalDpiY',\n",
       " 'PdmWidth',\n",
       " 'PdmWidthMM',\n",
       " 'RenderFlag',\n",
       " 'RenderFlags',\n",
       " '__class__',\n",
       " '__delattr__',\n",
       " '__dict__',\n",
       " '__dir__',\n",
       " '__doc__',\n",
       " '__eq__',\n",
       " '__format__',\n",
       " '__ge__',\n",
       " '__getattr__',\n",
       " '__getattribute__',\n",
       " '__gt__',\n",
       " '__hash__',\n",
       " '__init__',\n",
       " '__init_subclass__',\n",
       " '__le__',\n",
       " '__lt__',\n",
       " '__module__',\n",
       " '__ne__',\n",
       " '__new__',\n",
       " '__reduce__',\n",
       " '__reduce_ex__',\n",
       " '__repr__',\n",
       " '__setattr__',\n",
       " '__sizeof__',\n",
       " '__str__',\n",
       " '__subclasshook__',\n",
       " '__weakref__',\n",
       " 'acceptDrops',\n",
       " 'accessibleDescription',\n",
       " 'accessibleName',\n",
       " 'actionEvent',\n",
       " 'actions',\n",
       " 'activateWindow',\n",
       " 'addAction',\n",
       " 'addActions',\n",
       " 'adjustSize',\n",
       " 'animateClick',\n",
       " 'autoDefault',\n",
       " 'autoExclusive',\n",
       " 'autoFillBackground',\n",
       " 'autoRepeat',\n",
       " 'autoRepeatDelay',\n",
       " 'autoRepeatInterval',\n",
       " 'backgroundRole',\n",
       " 'baseSize',\n",
       " 'blockSignals',\n",
       " 'changeEvent',\n",
       " 'checkStateSet',\n",
       " 'childAt',\n",
       " 'childEvent',\n",
       " 'children',\n",
       " 'childrenRect',\n",
       " 'childrenRegion',\n",
       " 'clearFocus',\n",
       " 'clearMask',\n",
       " 'click',\n",
       " 'clicked',\n",
       " 'close',\n",
       " 'closeEvent',\n",
       " 'colorCount',\n",
       " 'connectNotify',\n",
       " 'contentsMargins',\n",
       " 'contentsRect',\n",
       " 'contextMenuEvent',\n",
       " 'contextMenuPolicy',\n",
       " 'create',\n",
       " 'createWindowContainer',\n",
       " 'cursor',\n",
       " 'customContextMenuRequested',\n",
       " 'customEvent',\n",
       " 'deleteLater',\n",
       " 'depth',\n",
       " 'destroy',\n",
       " 'destroyed',\n",
       " 'devType',\n",
       " 'devicePixelRatio',\n",
       " 'devicePixelRatioF',\n",
       " 'devicePixelRatioFScale',\n",
       " 'disconnect',\n",
       " 'disconnectNotify',\n",
       " 'dragEnterEvent',\n",
       " 'dragLeaveEvent',\n",
       " 'dragMoveEvent',\n",
       " 'dropEvent',\n",
       " 'dumpObjectInfo',\n",
       " 'dumpObjectTree',\n",
       " 'dynamicPropertyNames',\n",
       " 'effectiveWinId',\n",
       " 'ensurePolished',\n",
       " 'enterEvent',\n",
       " 'event',\n",
       " 'eventFilter',\n",
       " 'find',\n",
       " 'findChild',\n",
       " 'findChildren',\n",
       " 'focusInEvent',\n",
       " 'focusNextChild',\n",
       " 'focusNextPrevChild',\n",
       " 'focusOutEvent',\n",
       " 'focusPolicy',\n",
       " 'focusPreviousChild',\n",
       " 'focusProxy',\n",
       " 'focusWidget',\n",
       " 'font',\n",
       " 'fontInfo',\n",
       " 'fontMetrics',\n",
       " 'foregroundRole',\n",
       " 'frameGeometry',\n",
       " 'frameSize',\n",
       " 'geometry',\n",
       " 'getContentsMargins',\n",
       " 'grab',\n",
       " 'grabGesture',\n",
       " 'grabKeyboard',\n",
       " 'grabMouse',\n",
       " 'grabShortcut',\n",
       " 'graphicsEffect',\n",
       " 'graphicsProxyWidget',\n",
       " 'group',\n",
       " 'hasFocus',\n",
       " 'hasHeightForWidth',\n",
       " 'hasMouseTracking',\n",
       " 'hasTabletTracking',\n",
       " 'height',\n",
       " 'heightForWidth',\n",
       " 'heightMM',\n",
       " 'hide',\n",
       " 'hideEvent',\n",
       " 'hitButton',\n",
       " 'icon',\n",
       " 'iconSize',\n",
       " 'inherits',\n",
       " 'initPainter',\n",
       " 'initStyleOption',\n",
       " 'inputMethodEvent',\n",
       " 'inputMethodHints',\n",
       " 'inputMethodQuery',\n",
       " 'insertAction',\n",
       " 'insertActions',\n",
       " 'installEventFilter',\n",
       " 'isActiveWindow',\n",
       " 'isAncestorOf',\n",
       " 'isCheckable',\n",
       " 'isChecked',\n",
       " 'isDefault',\n",
       " 'isDown',\n",
       " 'isEnabled',\n",
       " 'isEnabledTo',\n",
       " 'isFlat',\n",
       " 'isFullScreen',\n",
       " 'isHidden',\n",
       " 'isLeftToRight',\n",
       " 'isMaximized',\n",
       " 'isMinimized',\n",
       " 'isModal',\n",
       " 'isRightToLeft',\n",
       " 'isSignalConnected',\n",
       " 'isVisible',\n",
       " 'isVisibleTo',\n",
       " 'isWidgetType',\n",
       " 'isWindow',\n",
       " 'isWindowModified',\n",
       " 'isWindowType',\n",
       " 'keyPressEvent',\n",
       " 'keyReleaseEvent',\n",
       " 'keyboardGrabber',\n",
       " 'killTimer',\n",
       " 'layout',\n",
       " 'layoutDirection',\n",
       " 'leaveEvent',\n",
       " 'locale',\n",
       " 'logicalDpiX',\n",
       " 'logicalDpiY',\n",
       " 'lower',\n",
       " 'mapFrom',\n",
       " 'mapFromGlobal',\n",
       " 'mapFromParent',\n",
       " 'mapTo',\n",
       " 'mapToGlobal',\n",
       " 'mapToParent',\n",
       " 'mask',\n",
       " 'maximumHeight',\n",
       " 'maximumSize',\n",
       " 'maximumWidth',\n",
       " 'menu',\n",
       " 'metaObject',\n",
       " 'metric',\n",
       " 'minimumHeight',\n",
       " 'minimumSize',\n",
       " 'minimumSizeHint',\n",
       " 'minimumWidth',\n",
       " 'mouseDoubleClickEvent',\n",
       " 'mouseGrabber',\n",
       " 'mouseMoveEvent',\n",
       " 'mousePressEvent',\n",
       " 'mouseReleaseEvent',\n",
       " 'move',\n",
       " 'moveEvent',\n",
       " 'moveToThread',\n",
       " 'nativeEvent',\n",
       " 'nativeParentWidget',\n",
       " 'nextCheckState',\n",
       " 'nextInFocusChain',\n",
       " 'normalGeometry',\n",
       " 'objectName',\n",
       " 'objectNameChanged',\n",
       " 'overrideWindowFlags',\n",
       " 'overrideWindowState',\n",
       " 'paintEngine',\n",
       " 'paintEvent',\n",
       " 'paintingActive',\n",
       " 'palette',\n",
       " 'parent',\n",
       " 'parentWidget',\n",
       " 'physicalDpiX',\n",
       " 'physicalDpiY',\n",
       " 'pos',\n",
       " 'pressed',\n",
       " 'previousInFocusChain',\n",
       " 'property',\n",
       " 'pyqtConfigure',\n",
       " 'raise_',\n",
       " 'receivers',\n",
       " 'rect',\n",
       " 'releaseKeyboard',\n",
       " 'releaseMouse',\n",
       " 'releaseShortcut',\n",
       " 'released',\n",
       " 'removeAction',\n",
       " 'removeEventFilter',\n",
       " 'render',\n",
       " 'repaint',\n",
       " 'resize',\n",
       " 'resizeEvent',\n",
       " 'restoreGeometry',\n",
       " 'saveGeometry',\n",
       " 'scroll',\n",
       " 'sender',\n",
       " 'senderSignalIndex',\n",
       " 'setAcceptDrops',\n",
       " 'setAccessibleDescription',\n",
       " 'setAccessibleName',\n",
       " 'setAttribute',\n",
       " 'setAutoDefault',\n",
       " 'setAutoExclusive',\n",
       " 'setAutoFillBackground',\n",
       " 'setAutoRepeat',\n",
       " 'setAutoRepeatDelay',\n",
       " 'setAutoRepeatInterval',\n",
       " 'setBackgroundRole',\n",
       " 'setBaseSize',\n",
       " 'setCheckable',\n",
       " 'setChecked',\n",
       " 'setContentsMargins',\n",
       " 'setContextMenuPolicy',\n",
       " 'setCursor',\n",
       " 'setDefault',\n",
       " 'setDisabled',\n",
       " 'setDown',\n",
       " 'setEnabled',\n",
       " 'setFixedHeight',\n",
       " 'setFixedSize',\n",
       " 'setFixedWidth',\n",
       " 'setFlat',\n",
       " 'setFocus',\n",
       " 'setFocusPolicy',\n",
       " 'setFocusProxy',\n",
       " 'setFont',\n",
       " 'setForegroundRole',\n",
       " 'setGeometry',\n",
       " 'setGraphicsEffect',\n",
       " 'setHidden',\n",
       " 'setIcon',\n",
       " 'setIconSize',\n",
       " 'setInputMethodHints',\n",
       " 'setLayout',\n",
       " 'setLayoutDirection',\n",
       " 'setLocale',\n",
       " 'setMask',\n",
       " 'setMaximumHeight',\n",
       " 'setMaximumSize',\n",
       " 'setMaximumWidth',\n",
       " 'setMenu',\n",
       " 'setMinimumHeight',\n",
       " 'setMinimumSize',\n",
       " 'setMinimumWidth',\n",
       " 'setMouseTracking',\n",
       " 'setObjectName',\n",
       " 'setPalette',\n",
       " 'setParent',\n",
       " 'setProperty',\n",
       " 'setShortcut',\n",
       " 'setShortcutAutoRepeat',\n",
       " 'setShortcutEnabled',\n",
       " 'setSizeIncrement',\n",
       " 'setSizePolicy',\n",
       " 'setStatusTip',\n",
       " 'setStyle',\n",
       " 'setStyleSheet',\n",
       " 'setTabOrder',\n",
       " 'setTabletTracking',\n",
       " 'setText',\n",
       " 'setToolTip',\n",
       " 'setToolTipDuration',\n",
       " 'setUpdatesEnabled',\n",
       " 'setVisible',\n",
       " 'setWhatsThis',\n",
       " 'setWindowFilePath',\n",
       " 'setWindowFlag',\n",
       " 'setWindowFlags',\n",
       " 'setWindowIcon',\n",
       " 'setWindowIconText',\n",
       " 'setWindowModality',\n",
       " 'setWindowModified',\n",
       " 'setWindowOpacity',\n",
       " 'setWindowRole',\n",
       " 'setWindowState',\n",
       " 'setWindowTitle',\n",
       " 'sharedPainter',\n",
       " 'shortcut',\n",
       " 'show',\n",
       " 'showEvent',\n",
       " 'showFullScreen',\n",
       " 'showMaximized',\n",
       " 'showMenu',\n",
       " 'showMinimized',\n",
       " 'showNormal',\n",
       " 'signalsBlocked',\n",
       " 'size',\n",
       " 'sizeHint',\n",
       " 'sizeIncrement',\n",
       " 'sizePolicy',\n",
       " 'stackUnder',\n",
       " 'startTimer',\n",
       " 'staticMetaObject',\n",
       " 'statusTip',\n",
       " 'style',\n",
       " 'styleSheet',\n",
       " 'tabletEvent',\n",
       " 'testAttribute',\n",
       " 'text',\n",
       " 'thread',\n",
       " 'timerEvent',\n",
       " 'toggle',\n",
       " 'toggled',\n",
       " 'toolTip',\n",
       " 'toolTipDuration',\n",
       " 'tr',\n",
       " 'underMouse',\n",
       " 'ungrabGesture',\n",
       " 'unsetCursor',\n",
       " 'unsetLayoutDirection',\n",
       " 'unsetLocale',\n",
       " 'update',\n",
       " 'updateGeometry',\n",
       " 'updateMicroFocus',\n",
       " 'updatesEnabled',\n",
       " 'visibleRegion',\n",
       " 'whatsThis',\n",
       " 'wheelEvent',\n",
       " 'width',\n",
       " 'widthMM',\n",
       " 'winId',\n",
       " 'window',\n",
       " 'windowFilePath',\n",
       " 'windowFlags',\n",
       " 'windowHandle',\n",
       " 'windowIcon',\n",
       " 'windowIconChanged',\n",
       " 'windowIconText',\n",
       " 'windowIconTextChanged',\n",
       " 'windowModality',\n",
       " 'windowOpacity',\n",
       " 'windowRole',\n",
       " 'windowState',\n",
       " 'windowTitle',\n",
       " 'windowTitleChanged',\n",
       " 'windowType',\n",
       " 'x',\n",
       " 'y']"
      ]
     },
     "execution_count": 7,
     "metadata": {},
     "output_type": "execute_result"
    }
   ],
   "source": [
    "dir(QtWidgets.QPushButton)"
   ]
  },
  {
   "cell_type": "code",
   "execution_count": 8,
   "metadata": {},
   "outputs": [
    {
     "data": {
      "text/plain": [
       "['__call__',\n",
       " '__class__',\n",
       " '__delattr__',\n",
       " '__dir__',\n",
       " '__doc__',\n",
       " '__eq__',\n",
       " '__format__',\n",
       " '__ge__',\n",
       " '__getattribute__',\n",
       " '__gt__',\n",
       " '__hash__',\n",
       " '__init__',\n",
       " '__init_subclass__',\n",
       " '__le__',\n",
       " '__lt__',\n",
       " '__module__',\n",
       " '__name__',\n",
       " '__ne__',\n",
       " '__new__',\n",
       " '__qualname__',\n",
       " '__reduce__',\n",
       " '__reduce_ex__',\n",
       " '__repr__',\n",
       " '__self__',\n",
       " '__setattr__',\n",
       " '__sizeof__',\n",
       " '__str__',\n",
       " '__subclasshook__',\n",
       " '__text_signature__']"
      ]
     },
     "execution_count": 8,
     "metadata": {},
     "output_type": "execute_result"
    }
   ],
   "source": [
    "dir(QtWidgets.QPushButton.setShortcut)"
   ]
  },
  {
   "cell_type": "code",
   "execution_count": 9,
   "metadata": {},
   "outputs": [
    {
     "data": {
      "text/plain": [
       "' '"
      ]
     },
     "execution_count": 9,
     "metadata": {},
     "output_type": "execute_result"
    }
   ],
   "source": [
    "chr(32)"
   ]
  },
  {
   "cell_type": "code",
   "execution_count": null,
   "metadata": {
    "collapsed": true
   },
   "outputs": [],
   "source": [
    "%run setup"
   ]
  },
  {
   "cell_type": "code",
   "execution_count": null,
   "metadata": {},
   "outputs": [
    {
     "ename": "SystemExit",
     "evalue": "-1",
     "output_type": "error",
     "traceback": [
      "An exception has occurred, use %tb to see the full traceback.\n",
      "\u001b[1;31mSystemExit\u001b[0m\u001b[1;31m:\u001b[0m -1\n"
     ]
    }
   ],
   "source": [
    "%run setup"
   ]
  },
  {
   "cell_type": "code",
   "execution_count": 2,
   "metadata": {},
   "outputs": [
    {
     "ename": "SystemExit",
     "evalue": "-1",
     "output_type": "error",
     "traceback": [
      "An exception has occurred, use %tb to see the full traceback.\n",
      "\u001b[1;31mSystemExit\u001b[0m\u001b[1;31m:\u001b[0m -1\n"
     ]
    }
   ],
   "source": [
    "%run setup"
   ]
  },
  {
   "cell_type": "code",
   "execution_count": null,
   "metadata": {},
   "outputs": [
    {
     "name": "stdout",
     "output_type": "stream",
     "text": [
      "121\n",
      "wordbook[self.sel[self.k]][0].text\n",
      "121\n",
      "wordbook[self.sel[self.k]][0].text\n",
      "121\n",
      "wordbook[self.sel[self.k]][0].text\n",
      "121\n",
      "wordbook[self.sel[self.k]][0].text\n",
      "121\n",
      "wordbook[self.sel[self.k]][0].text\n",
      "121\n",
      "wordbook[self.sel[self.k]][0].text\n",
      "121\n",
      "wordbook[self.sel[self.k]][0].text\n",
      "121\n",
      "wordbook[self.sel[self.k]][0].text\n",
      "121\n",
      "wordbook[self.sel[self.k]][0].text\n",
      "121\n",
      "wordbook[self.sel[self.k]][0].text\n",
      "121\n",
      "wordbook[self.sel[self.k]][0].text\n",
      "121\n",
      "wordbook[self.sel[self.k]][0].text\n",
      "121\n",
      "wordbook[self.sel[self.k]][0].text\n"
     ]
    }
   ],
   "source": [
    "%run setup"
   ]
  },
  {
   "cell_type": "code",
   "execution_count": 1,
   "metadata": {},
   "outputs": [],
   "source": [
    "%run setup"
   ]
  }
 ],
 "metadata": {
  "kernelspec": {
   "display_name": "Python 3",
   "language": "python",
   "name": "python3"
  },
  "language_info": {
   "codemirror_mode": {
    "name": "ipython",
    "version": 3
   },
   "file_extension": ".py",
   "mimetype": "text/x-python",
   "name": "python",
   "nbconvert_exporter": "python",
   "pygments_lexer": "ipython3",
   "version": "3.6.2"
  }
 },
 "nbformat": 4,
 "nbformat_minor": 2
}
